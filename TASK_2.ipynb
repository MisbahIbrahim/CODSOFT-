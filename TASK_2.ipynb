{
  "nbformat": 4,
  "nbformat_minor": 0,
  "metadata": {
    "colab": {
      "provenance": []
    },
    "kernelspec": {
      "name": "python3",
      "display_name": "Python 3"
    },
    "language_info": {
      "name": "python"
    }
  },
  "cells": [
    {
      "cell_type": "markdown",
      "source": [
        "# ***TASK 2 CALCULATOR***"
      ],
      "metadata": {
        "id": "3OoVlUaH3NY0"
      }
    },
    {
      "cell_type": "code",
      "execution_count": 2,
      "metadata": {
        "colab": {
          "base_uri": "https://localhost:8080/"
        },
        "id": "O1PXzIj83HP3",
        "outputId": "ea8d2164-af74-4083-8a2b-9b94a1c041e6"
      },
      "outputs": [
        {
          "output_type": "stream",
          "name": "stdout",
          "text": [
            "Welcome to Simple Calculator!\n",
            "Enter the first number: 5\n",
            "Enter the second number: 9\n",
            "Select operation:\n",
            "1. Addition\n",
            "2. Subtraction\n",
            "3. Multiplication\n",
            "4. Division\n",
            "5. Quit\n",
            "Enter choice (1/2/3/4/5): 2\n",
            "difference is:  -4.0\n"
          ]
        }
      ],
      "source": [
        "print(\"Welcome to Simple Calculator!\")\n",
        "\n",
        "Num1 = float(input(\"Enter the first number: \"))\n",
        "Num2 = float(input(\"Enter the second number: \"))\n",
        "\n",
        "print(\"Select operation:\")\n",
        "print(\"1. Addition\")\n",
        "print(\"2. Subtraction\")\n",
        "print(\"3. Multiplication\")\n",
        "print(\"4. Division\")\n",
        "print(\"5. Quit\")\n",
        "\n",
        "opt = input(\"Enter choice (1/2/3/4/5): \")\n",
        "match opt:\n",
        "    case '1':\n",
        "        add=Num1 + Num2\n",
        "        print(\"sum is: \",add)\n",
        "    case '2':\n",
        "        sub=Num1 - Num2\n",
        "        print(\"difference is: \",sub)\n",
        "    case '3':\n",
        "        mul=Num1 * Num2\n",
        "        print(\"product is: \",mul)\n",
        "    case '4':\n",
        "        if Num2 != 0:\n",
        "            div=Num1 / Num2\n",
        "            print(\"quotient is: \",div)\n",
        "        else:\n",
        "            \"Cannot divide by zero\"\n",
        "    case '5':\n",
        "        print(\"Exiting calculator...\")\n",
        "        exit()\n",
        "    case _:\n",
        "        \"Invalid input\"\n"
      ]
    },
    {
      "cell_type": "markdown",
      "source": [],
      "metadata": {
        "id": "iX-klrH53Ln4"
      }
    }
  ]
}