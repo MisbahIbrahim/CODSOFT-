{
  "nbformat": 4,
  "nbformat_minor": 0,
  "metadata": {
    "colab": {
      "provenance": []
    },
    "kernelspec": {
      "name": "python3",
      "display_name": "Python 3"
    },
    "language_info": {
      "name": "python"
    }
  },
  "cells": [
    {
      "cell_type": "markdown",
      "source": [
        "# ***TASK 3 PASSWORD GENERATOR***"
      ],
      "metadata": {
        "id": "PgaXndEtoWJe"
      }
    },
    {
      "cell_type": "code",
      "source": [
        "import string\n",
        "import random\n",
        "LowerCaseLetterLength=int(input(\"Enter the number of lower case letters: \"))\n",
        "UpperCaseLetterLength=int(input(\"Enter the number of upper case letter: \"))\n",
        "Digitlength=int(input(\"Enter the number of digits: \"))\n",
        "SymbolLength=int(input(\"Enter the number of symbols: \"))\n",
        "PasswordLength=LowerCaseLetterLength+UpperCaseLetterLength+Digitlength+SymbolLength\n",
        "lower=string.ascii_lowercase\n",
        "upper=string.ascii_uppercase\n",
        "digit=string.digits\n",
        "symbol=string.punctuation\n",
        "str=random.choices(lower,k=LowerCaseLetterLength)+random.choices(upper,k=UpperCaseLetterLength)+random.choices(digit,k=Digitlength)+random.choices(symbol,k=SymbolLength)\n",
        "random.shuffle(str)\n",
        "Password=\"\".join(str)\n",
        "print(\"Your Password is: \",Password)"
      ],
      "metadata": {
        "colab": {
          "base_uri": "https://localhost:8080/"
        },
        "id": "14Zp0ITcoM5Y",
        "outputId": "efbd3e41-01a1-4b34-e6cb-2d791aa0271d"
      },
      "execution_count": 1,
      "outputs": [
        {
          "output_type": "stream",
          "name": "stdout",
          "text": [
            "Enter the number of lower case letters: 5\n",
            "Enter the number of upper case letter: 3\n",
            "Enter the number of digits: 1\n",
            "Enter the number of symbols: 3\n",
            "Your Password is:  aoM}WvM_&u9a\n"
          ]
        }
      ]
    }
  ]
}