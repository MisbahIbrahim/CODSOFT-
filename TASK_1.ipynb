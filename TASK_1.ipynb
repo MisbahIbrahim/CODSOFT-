{
  "nbformat": 4,
  "nbformat_minor": 0,
  "metadata": {
    "colab": {
      "provenance": []
    },
    "kernelspec": {
      "name": "python3",
      "display_name": "Python 3"
    },
    "language_info": {
      "name": "python"
    }
  },
  "cells": [
    {
      "cell_type": "markdown",
      "source": [
        "# ***TASK 1 TO DO LIST***"
      ],
      "metadata": {
        "id": "mxgb4NhMr6ZV"
      }
    },
    {
      "cell_type": "code",
      "source": [
        "tasks=[]\n",
        "def addTask():\n",
        "  task=input(\"Please enter a task: \")\n",
        "  tasks.append(task)\n",
        "  print(f\"Task'{task}'added to the list. \")\n",
        "def listTasks():\n",
        "  if not tasks:\n",
        "    print(\"There are no tasks currently. \")\n",
        "  else:\n",
        "    print(\"Current Tasks: \")\n",
        "    for index, task in enumerate(tasks):\n",
        "      print(f\"Task #{index}.{task}\")\n",
        "def deleteTask():\n",
        "  listTasks()\n",
        "  try:\n",
        "    taskToDelete=int(input(\"Enter the # to delete: \"))\n",
        "    if taskToDelete>=0 and taskToDelete<len(tasks):\n",
        "      tasks.pop(taskToDelete)\n",
        "      print(f\"Task {taskToDelete} has been removed. \")\n",
        "    else:\n",
        "      print(f\"Task #{taskToDelete} was not found. \")\n",
        "  except:\n",
        "    print(\"Invalid Input. \")\n",
        "print(\"-----Welcome to the To-Do List App-----\")\n",
        "while True:\n",
        "  print(\"\\n\")\n",
        "  print(\"Please select one of the following options: \")\n",
        "  print(\"*********\")\n",
        "  print(\"1. Add a new task\")\n",
        "  print(\"2. Delete a task\")\n",
        "  print(\"3. List all tasks\")\n",
        "  print(\"4. Quit\")\n",
        "  choice=input(\"Enter your choice: \")\n",
        "  if(choice==\"1\"):\n",
        "    addTask()\n",
        "  elif(choice==\"2\"):\n",
        "    deleteTask()\n",
        "  elif(choice==\"3\"):\n",
        "    listTasks()\n",
        "  elif(choice==\"4\"):\n",
        "    break\n",
        "  else:\n",
        "    print(\"Invalid Input. Please try again.\")\n",
        "print(\"GoodBye...\")"
      ],
      "metadata": {
        "colab": {
          "base_uri": "https://localhost:8080/"
        },
        "id": "05CO3qwNr_OO",
        "outputId": "63561b29-3c00-40ce-ec17-28ad293a8b70"
      },
      "execution_count": 1,
      "outputs": [
        {
          "output_type": "stream",
          "name": "stdout",
          "text": [
            "-----Welcome to the To-Do List App-----\n",
            "\n",
            "\n",
            "Please select one of the following options: \n",
            "*********\n",
            "1. Add a new task\n",
            "2. Delete a task\n",
            "3. List all tasks\n",
            "4. Quit\n",
            "Enter your choice: 1\n",
            "Please enter a task: Codsoft Internship\n",
            "Task'Codsoft Internship'added to the list. \n",
            "\n",
            "\n",
            "Please select one of the following options: \n",
            "*********\n",
            "1. Add a new task\n",
            "2. Delete a task\n",
            "3. List all tasks\n",
            "4. Quit\n",
            "Enter your choice: 3\n",
            "Current Tasks: \n",
            "Task #0.Codsoft Internship\n",
            "\n",
            "\n",
            "Please select one of the following options: \n",
            "*********\n",
            "1. Add a new task\n",
            "2. Delete a task\n",
            "3. List all tasks\n",
            "4. Quit\n",
            "Enter your choice: 1\n",
            "Please enter a task: Os lab\n",
            "Task'Os lab'added to the list. \n",
            "\n",
            "\n",
            "Please select one of the following options: \n",
            "*********\n",
            "1. Add a new task\n",
            "2. Delete a task\n",
            "3. List all tasks\n",
            "4. Quit\n",
            "Enter your choice: 2\n",
            "Current Tasks: \n",
            "Task #0.Codsoft Internship\n",
            "Task #1.Os lab\n",
            "Enter the # to delete: 1\n",
            "Task 1 has been removed. \n",
            "\n",
            "\n",
            "Please select one of the following options: \n",
            "*********\n",
            "1. Add a new task\n",
            "2. Delete a task\n",
            "3. List all tasks\n",
            "4. Quit\n",
            "Enter your choice: 3\n",
            "Current Tasks: \n",
            "Task #0.Codsoft Internship\n",
            "\n",
            "\n",
            "Please select one of the following options: \n",
            "*********\n",
            "1. Add a new task\n",
            "2. Delete a task\n",
            "3. List all tasks\n",
            "4. Quit\n",
            "Enter your choice: 4\n",
            "GoodBye...\n"
          ]
        }
      ]
    },
    {
      "cell_type": "code",
      "execution_count": null,
      "metadata": {
        "id": "sD8Z-9IKqStu"
      },
      "outputs": [],
      "source": []
    }
  ]
}